{
  "nbformat": 4,
  "nbformat_minor": 0,
  "metadata": {
    "colab": {
      "provenance": [],
      "authorship_tag": "ABX9TyPrmVLetoC6TVuGbAbwrSE/",
      "include_colab_link": true
    },
    "kernelspec": {
      "name": "python3",
      "display_name": "Python 3"
    },
    "language_info": {
      "name": "python"
    }
  },
  "cells": [
    {
      "cell_type": "markdown",
      "metadata": {
        "id": "view-in-github",
        "colab_type": "text"
      },
      "source": [
        "<a href=\"https://colab.research.google.com/github/SanthiyaDeviNatraj/Machine-learning-Algorithms/blob/main/logistic.ipynb\" target=\"_parent\"><img src=\"https://colab.research.google.com/assets/colab-badge.svg\" alt=\"Open In Colab\"/></a>"
      ]
    },
    {
      "cell_type": "code",
      "execution_count": 1,
      "metadata": {
        "colab": {
          "base_uri": "https://localhost:8080/"
        },
        "id": "MGhL9-TL8Hm4",
        "outputId": "66c86bf7-152a-49b4-8ae3-2b97bd2f4573"
      },
      "outputs": [
        {
          "output_type": "stream",
          "name": "stdout",
          "text": [
            "[0]\n"
          ]
        }
      ],
      "source": [
        "import numpy\n",
        "from sklearn import linear_model\n",
        "\n",
        "#Reshaped for Logistic function.\n",
        "X = numpy.array([3.78, 2.44, 2.09, 0.14, 1.72, 1.65, 4.92, 4.37, 4.96, 4.52, 3.69, 5.88]).reshape(-1,1)\n",
        "y = numpy.array([0, 0, 0, 0, 0, 0, 1, 1, 1, 1, 1, 1])\n",
        "\n",
        "logr = linear_model.LogisticRegression()\n",
        "logr.fit(X,y)\n",
        "\n",
        "#predict if tumor is cancerous where the size is 3.46mm:\n",
        "predicted = logr.predict(numpy.array([3.46]).reshape(-1,1))\n",
        "print(predicted)"
      ]
    },
    {
      "cell_type": "code",
      "source": [
        "import numpy\n",
        "from sklearn import linear_model\n",
        "\n",
        "#Reshaped for Logistic function.\n",
        "X = numpy.array([3.78, 2.44, 2.09, 0.14, 1.72, 1.65, 4.92, 4.37, 4.96, 4.52, 3.69, 5.88]).reshape(-1,1)\n",
        "y = numpy.array([0, 0, 0, 0, 0, 0, 1, 1, 1, 1, 1, 1])\n",
        "\n",
        "logr = linear_model.LogisticRegression()\n",
        "logr.fit(X,y)\n",
        "\n",
        "log_odds = logr.coef_\n",
        "odds = numpy.exp(log_odds)\n",
        "\n",
        "print(odds)"
      ],
      "metadata": {
        "colab": {
          "base_uri": "https://localhost:8080/"
        },
        "id": "AeLvt5qD8U7m",
        "outputId": "b25f790e-359b-4e75-a2ec-74259a3ad678"
      },
      "execution_count": 2,
      "outputs": [
        {
          "output_type": "stream",
          "name": "stdout",
          "text": [
            "[[4.03557295]]\n"
          ]
        }
      ]
    },
    {
      "cell_type": "code",
      "source": [
        "import numpy\n",
        "from sklearn import linear_model\n",
        "\n",
        "X = numpy.array([3.78, 2.44, 2.09, 0.14, 1.72, 1.65, 4.92, 4.37, 4.96, 4.52, 3.69, 5.88]).reshape(-1,1)\n",
        "y = numpy.array([0, 0, 0, 0, 0, 0, 1, 1, 1, 1, 1, 1])\n",
        "\n",
        "logr = linear_model.LogisticRegression()\n",
        "logr.fit(X,y)\n",
        "\n",
        "def logit2prob(logr, X):\n",
        "  log_odds = logr.coef_ * X + logr.intercept_\n",
        "  odds = numpy.exp(log_odds)\n",
        "  probability = odds / (1 + odds)\n",
        "  return(probability)\n",
        "\n",
        "print(logit2prob(logr, X))"
      ],
      "metadata": {
        "colab": {
          "base_uri": "https://localhost:8080/"
        },
        "id": "_sU-xykM8dx-",
        "outputId": "3c97ef69-bc8d-48a9-9d71-52e5e2daa10e"
      },
      "execution_count": 3,
      "outputs": [
        {
          "output_type": "stream",
          "name": "stdout",
          "text": [
            "[[0.60749168]\n",
            " [0.19267555]\n",
            " [0.12774788]\n",
            " [0.00955056]\n",
            " [0.08037781]\n",
            " [0.0734485 ]\n",
            " [0.88362857]\n",
            " [0.77901203]\n",
            " [0.88924534]\n",
            " [0.81293431]\n",
            " [0.57718238]\n",
            " [0.96664398]]\n"
          ]
        }
      ]
    }
  ]
}